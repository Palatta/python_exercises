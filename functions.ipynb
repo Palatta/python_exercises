{
 "cells": [
  {
   "attachments": {},
   "cell_type": "markdown",
   "metadata": {},
   "source": [
    "1. Write a program that takes a list of numbers and returns the largest number in the list."
   ]
  },
  {
   "cell_type": "code",
   "execution_count": 3,
   "metadata": {},
   "outputs": [
    {
     "data": {
      "text/plain": [
       "9"
      ]
     },
     "execution_count": 3,
     "metadata": {},
     "output_type": "execute_result"
    }
   ],
   "source": [
    "numbers = [1, 2, 3, 4, 5, 6, 7, 8, 9]\n",
    "# your code here\n",
    "\n",
    "def find_max(my_list):\n",
    "    max_num = 0\n",
    "    for i in my_list:\n",
    "        if i > max_num:\n",
    "            max_num = i\n",
    "    return max_num\n",
    "\n",
    "find_max(numbers)"
   ]
  },
  {
   "attachments": {},
   "cell_type": "markdown",
   "metadata": {},
   "source": [
    "2. Write a program that takes a string and returns the number of vowels in the string."
   ]
  },
  {
   "cell_type": "code",
   "execution_count": 16,
   "metadata": {},
   "outputs": [
    {
     "data": {
      "text/plain": [
       "3"
      ]
     },
     "execution_count": 16,
     "metadata": {},
     "output_type": "execute_result"
    }
   ],
   "source": [
    "string = \"Hello, world!\"\n",
    "# your code here\n",
    "\n",
    "def find_vowel(my_string):\n",
    "    count_vowels = 0\n",
    "    my_string = my_string.lower()\n",
    "\n",
    "    for i in my_string:\n",
    "        if i in ['a', 'e', 'i', 'o', 'u']:\n",
    "            count_vowels += 1\n",
    "    return count_vowels\n",
    "\n",
    "find_vowel(string)"
   ]
  },
  {
   "attachments": {},
   "cell_type": "markdown",
   "metadata": {},
   "source": [
    "3. Write a program that takes a list of strings and returns a new list that contains only the strings that start with the letter 'a'."
   ]
  },
  {
   "cell_type": "code",
   "execution_count": 20,
   "metadata": {},
   "outputs": [
    {
     "data": {
      "text/plain": [
       "['apple']"
      ]
     },
     "execution_count": 20,
     "metadata": {},
     "output_type": "execute_result"
    }
   ],
   "source": [
    "strings = [\"apple\", \"banana\", \"cherry\", \"date\"]\n",
    "# your code here\n",
    "\n",
    "def a_starting_words(my_string):\n",
    "    a_starting = []\n",
    "\n",
    "    for i in my_string:\n",
    "        if i[0] == 'a' or i[0] == 'A':\n",
    "            a_starting.append(i)\n",
    "    return a_starting\n",
    "\n",
    "a_starting_words(strings)"
   ]
  },
  {
   "attachments": {},
   "cell_type": "markdown",
   "metadata": {},
   "source": [
    "4. Write a program that takes a sentence (string) and returns a dictionary with the count of each word in the sentence."
   ]
  },
  {
   "cell_type": "code",
   "execution_count": 39,
   "metadata": {},
   "outputs": [
    {
     "data": {
      "text/plain": [
       "{'this': 1, 'is': 2, 'a': 1, 'test': 2, 'sentence': 2, 'the': 2, 'first': 1}"
      ]
     },
     "execution_count": 39,
     "metadata": {},
     "output_type": "execute_result"
    }
   ],
   "source": [
    "import re\n",
    "\n",
    "sentence = \"this is a test sentence, the sentence is the first test.\"\n",
    "# your code here\n",
    "\n",
    "def word_count(my_string):\n",
    "\n",
    "    exclude_dots = re.sub(r'[^\\w\\s]', ' ', my_string)\n",
    "    words = exclude_dots.split()\n",
    "    word_dictionary = {}\n",
    "\n",
    "    for word in words:\n",
    "        if word in word_dictionary:\n",
    "            word_dictionary[word] += 1\n",
    "        else:\n",
    "            word_dictionary[word] = 1\n",
    "    return word_dictionary\n",
    "\n",
    "word_count(sentence)"
   ]
  },
  {
   "attachments": {},
   "cell_type": "markdown",
   "metadata": {},
   "source": [
    "5. Write a program that takes two lists of numbers and returns a new list that contains only the numbers that are common to both lists."
   ]
  },
  {
   "cell_type": "code",
   "execution_count": 45,
   "metadata": {},
   "outputs": [
    {
     "data": {
      "text/plain": [
       "[2, 4, 6, 8]"
      ]
     },
     "execution_count": 45,
     "metadata": {},
     "output_type": "execute_result"
    }
   ],
   "source": [
    "list1 = [1, 2, 3, 4, 5, 6, 7, 8, 9]\n",
    "list2 = [2, 4, 6, 8, 10, 12, 14, 16, 18]\n",
    "# your code here\n",
    "\n",
    "def common_nums(list_1, list_2):\n",
    "    nums = []\n",
    "    for i in list_1:\n",
    "        if i in list_2:\n",
    "            nums.append(i)\n",
    "    return nums\n",
    "\n",
    "common_nums(list1, list2)"
   ]
  },
  {
   "attachments": {},
   "cell_type": "markdown",
   "metadata": {},
   "source": [
    "6. Write a program that takes a list of integers and returns a new list that contains only the prime numbers from the original list."
   ]
  },
  {
   "cell_type": "code",
   "execution_count": 4,
   "metadata": {},
   "outputs": [
    {
     "data": {
      "text/plain": [
       "[1, 2, 3, 5, 7, 11, 13]"
      ]
     },
     "execution_count": 4,
     "metadata": {},
     "output_type": "execute_result"
    }
   ],
   "source": [
    "numbers = [1, 2, 3, 4, 5, 6, 7, 8, 9, 10, 11, 12, 13, 14, 15, 1, 2, 0, 21]\n",
    "# your code here\n",
    "\n",
    "def find_prime_numbers(my_list):\n",
    "    prime_numbers = []\n",
    "    for num in my_list:\n",
    "        if num == 0:\n",
    "            continue\n",
    "        elif num == 1 and num not in prime_numbers:\n",
    "            prime_numbers.append(num)\n",
    "        elif num == 2 and num not in prime_numbers:\n",
    "            prime_numbers.append(num)\n",
    "        if num > 0:\n",
    "            total = 0\n",
    "            for i in range(2, num):\n",
    "                if num % i == 0:\n",
    "                    total = 0\n",
    "                    break\n",
    "                else:\n",
    "                    total = 1\n",
    "            if total == 1 and num not in prime_numbers:\n",
    "                prime_numbers.append(num)\n",
    "    return prime_numbers\n",
    "\n",
    "find_prime_numbers(numbers)"
   ]
  },
  {
   "attachments": {},
   "cell_type": "markdown",
   "metadata": {},
   "source": [
    "7. Write a program that takes a string and returns the number of words in the string."
   ]
  },
  {
   "cell_type": "code",
   "execution_count": 9,
   "metadata": {},
   "outputs": [
    {
     "data": {
      "text/plain": [
       "7"
      ]
     },
     "execution_count": 9,
     "metadata": {},
     "output_type": "execute_result"
    }
   ],
   "source": [
    "string = \"Write a program that takes a string\"\n",
    "# your code here\n",
    "\n",
    "def word_count(my_string):\n",
    "    words = my_string.split()\n",
    "    count = 0\n",
    "\n",
    "    for word in words:\n",
    "        count += 1\n",
    "    return count\n",
    "\n",
    "word_count(string)"
   ]
  },
  {
   "attachments": {},
   "cell_type": "markdown",
   "metadata": {},
   "source": [
    "8. Write a program that takes a list of strings and returns a new list that contains only the strings that are palindrome."
   ]
  },
  {
   "cell_type": "code",
   "execution_count": null,
   "metadata": {},
   "outputs": [],
   "source": [
    "strings = [\"madam\", \"level\", \"civic\"]\n",
    "# your code here"
   ]
  },
  {
   "attachments": {},
   "cell_type": "markdown",
   "metadata": {},
   "source": [
    "9. Write a program that takes a sentence (string) and returns a tuple of the most frequent word and its frequency."
   ]
  },
  {
   "cell_type": "code",
   "execution_count": null,
   "metadata": {},
   "outputs": [],
   "source": [
    "sentence = \"this is a test sentence to test the test\"\n",
    "# your code here"
   ]
  }
 ],
 "metadata": {
  "kernelspec": {
   "display_name": "Python 3",
   "language": "python",
   "name": "python3"
  },
  "language_info": {
   "codemirror_mode": {
    "name": "ipython",
    "version": 3
   },
   "file_extension": ".py",
   "mimetype": "text/x-python",
   "name": "python",
   "nbconvert_exporter": "python",
   "pygments_lexer": "ipython3",
   "version": "3.10.6"
  },
  "orig_nbformat": 4,
  "vscode": {
   "interpreter": {
    "hash": "916dbcbb3f70747c44a77c7bcd40155683ae19c65e1c03b4aa3499c5328201f1"
   }
  }
 },
 "nbformat": 4,
 "nbformat_minor": 2
}
