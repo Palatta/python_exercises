{
 "cells": [
  {
   "cell_type": "markdown",
   "metadata": {},
   "source": [
    "1. Write a program that prompts the user for a string and checks whether the string is a palindrome (i.e., the string reads the same forward and backward)."
   ]
  },
  {
   "cell_type": "code",
   "execution_count": 3,
   "metadata": {},
   "outputs": [
    {
     "name": "stdout",
     "output_type": "stream",
     "text": [
      "Enter a word: 12321\n",
      "12321 is palindrome.\n"
     ]
    }
   ],
   "source": [
    "string = input((\"Enter a word: \"))\n",
    "\n",
    "if (string == string[::-1]):\n",
    "      print(string + ' is palindrome.')\n",
    "else:\n",
    "      print(string + ' is not palindrome.')"
   ]
  },
  {
   "cell_type": "markdown",
   "metadata": {},
   "source": [
    "2. Write a program that takes in a list of integers and returns the sum of all even numbers in the list."
   ]
  },
  {
   "cell_type": "code",
   "execution_count": 2,
   "metadata": {},
   "outputs": [
    {
     "data": {
      "text/plain": [
       "1"
      ]
     },
     "execution_count": 2,
     "metadata": {},
     "output_type": "execute_result"
    }
   ],
   "source": [
    "int_list = [12, 42, 1, 56, 98]\n",
    "\n",
    "def sum_even_numbers(int_list):\n",
    "    total = 0\n",
    "    for i in int_list:\n",
    "        if type(i) is not int:\n",
    "            raise Exception('Please, enter only integers.')\n",
    "        elif i % 2 != 0:\n",
    "            total += i\n",
    "    return total\n",
    "\n",
    "sum_even_numbers(int_list)\n"
   ]
  },
  {
   "cell_type": "markdown",
   "metadata": {},
   "source": [
    "3. Write a program that prompts the user for their age and checks whether they are old enough to vote (i.e., 18 years old or older)."
   ]
  },
  {
   "cell_type": "code",
   "execution_count": 65,
   "metadata": {},
   "outputs": [
    {
     "name": "stdout",
     "output_type": "stream",
     "text": [
      "Enter your age: 9\n",
      "You can't vote!\n"
     ]
    }
   ],
   "source": [
    "def age_checker(age):\n",
    "    result = ''\n",
    "    if age >= 18:\n",
    "        result = 'You can vote!'\n",
    "    else:\n",
    "        result = \"You can't vote!\"\n",
    "    return result\n",
    "\n",
    "while True:\n",
    "    try:\n",
    "        my_age = int(input('Enter your age: '))\n",
    "        \n",
    "        if my_age <= 0:\n",
    "            print('Please, enter a number above zero!')\n",
    "        else:\n",
    "            print(age_checker(my_age))\n",
    "            break\n",
    "            \n",
    "\n",
    "    except ValueError:\n",
    "        print('Please, enter an integer number!')"
   ]
  },
  {
   "cell_type": "markdown",
   "metadata": {},
   "source": [
    "4. Write a program that takes in a list of integers and returns the largest number in the list that is also divisible by 3."
   ]
  },
  {
   "cell_type": "code",
   "execution_count": 9,
   "metadata": {},
   "outputs": [
    {
     "data": {
      "text/plain": [
       "147"
      ]
     },
     "execution_count": 9,
     "metadata": {},
     "output_type": "execute_result"
    }
   ],
   "source": [
    "my_list = [2, 43, 12, 147, 9, 82, 90, 81]\n",
    "\n",
    "def max_num_div_by_3(my_list):\n",
    "    max_number = 0\n",
    "    for i in my_list:\n",
    "        if type(i) is not int:\n",
    "            raise Exception('Please, enter only integer numbers!')\n",
    "        elif i > max_number and i % 3 == 0:\n",
    "            max_number = i\n",
    "    return max_number\n",
    "\n",
    "max_num_div_by_3(my_list)"
   ]
  },
  {
   "cell_type": "markdown",
   "metadata": {},
   "source": [
    "5. Write a program that prompts the user for a number and checks whether the number is a prime number (i.e., only divisible by 1 and itself)."
   ]
  },
  {
   "cell_type": "code",
   "execution_count": 7,
   "metadata": {},
   "outputs": [
    {
     "name": "stdout",
     "output_type": "stream",
     "text": [
      "Enter a number: 2\n",
      "Prime.\n"
     ]
    }
   ],
   "source": [
    "def check_prime(n):\n",
    "    result = ''\n",
    "    if n == 2:\n",
    "        result = 'Prime.'\n",
    "    elif n > 2:\n",
    "        for i in range(2, n):\n",
    "            if (n % i) == 0:\n",
    "                result = 'Not prime.'\n",
    "                break\n",
    "            else:\n",
    "                result = 'Prime.'\n",
    "                break\n",
    "    else:\n",
    "        result = 'Enter a number greather than one.'\n",
    "    return result\n",
    "\n",
    "while True:\n",
    "    try:\n",
    "        my_number = int(input('Enter a number: '))\n",
    "        print(check_prime(my_number))\n",
    "        break\n",
    "    except ValueError:\n",
    "        print('Please, enter an integer number!')"
   ]
  },
  {
   "cell_type": "code",
   "execution_count": null,
   "metadata": {},
   "outputs": [],
   "source": []
  }
 ],
 "metadata": {
  "kernelspec": {
   "display_name": "Python 3 (ipykernel)",
   "language": "python",
   "name": "python3"
  },
  "language_info": {
   "codemirror_mode": {
    "name": "ipython",
    "version": 3
   },
   "file_extension": ".py",
   "mimetype": "text/x-python",
   "name": "python",
   "nbconvert_exporter": "python",
   "pygments_lexer": "ipython3",
   "version": "3.10.6"
  },
  "vscode": {
   "interpreter": {
    "hash": "f7a5be651532581cb44625d52e18aa1d390cab54bc6b51099d8c30bea9b68219"
   }
  }
 },
 "nbformat": 4,
 "nbformat_minor": 2
}
